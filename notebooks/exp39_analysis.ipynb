{
 "cells": [
  {
   "cell_type": "markdown",
   "metadata": {},
   "source": [
    "# Exp 39 analysis\n",
    "\n",
    "See `./informercial/Makefile` for experimental\n",
    "details."
   ]
  },
  {
   "cell_type": "code",
   "execution_count": 1,
   "metadata": {},
   "outputs": [],
   "source": [
    "import os\n",
    "import numpy as np\n",
    "\n",
    "from IPython.display import Image\n",
    "import matplotlib\n",
    "import matplotlib.pyplot as plt\n",
    "\n",
    "%matplotlib inline\n",
    "%config InlineBackend.figure_format = 'retina'\n",
    "\n",
    "import seaborn as sns\n",
    "sns.set_style('ticks')\n",
    "\n",
    "matplotlib.rcParams.update({'font.size': 16})\n",
    "matplotlib.rc('axes', titlesize=16)\n",
    "\n",
    "from infomercial.exp import meta_bandit\n",
    "from infomercial.local_gym import bandit\n",
    "from infomercial.exp.meta_bandit import load_checkpoint\n",
    "\n",
    "import gym"
   ]
  },
  {
   "cell_type": "code",
   "execution_count": 2,
   "metadata": {
    "scrolled": true
   },
   "outputs": [],
   "source": [
    "# ls ../data/exp2*"
   ]
  },
  {
   "cell_type": "markdown",
   "metadata": {},
   "source": [
    "# Load and process data"
   ]
  },
  {
   "cell_type": "code",
   "execution_count": 3,
   "metadata": {},
   "outputs": [],
   "source": [
    "data_path =\"/Users/qualia/Code/infomercial/data/\"\n",
    "exp_name = \"exp39\"\n",
    "best_params = load_checkpoint(os.path.join(data_path, f\"{exp_name}_best.pkl\"))\n",
    "sorted_params = load_checkpoint(os.path.join(data_path, f\"{exp_name}_sorted.pkl\"))"
   ]
  },
  {
   "cell_type": "code",
   "execution_count": 4,
   "metadata": {},
   "outputs": [
    {
     "data": {
      "text/plain": [
       "{'tie_threshold': 0.2317007042577129,\n",
       " 'lr': 0.30465470301017705,\n",
       " 'total_R': 125.0}"
      ]
     },
     "execution_count": 4,
     "metadata": {},
     "output_type": "execute_result"
    }
   ],
   "source": [
    "best_params"
   ]
  },
  {
   "cell_type": "markdown",
   "metadata": {},
   "source": [
    "# Performance\n",
    "\n",
    "of best parameters"
   ]
  },
  {
   "cell_type": "code",
   "execution_count": null,
   "metadata": {},
   "outputs": [],
   "source": [
    "env_name = 'BanditHardAndSparse1000-v0'\n",
    "\n",
    "# Run w/ best params\n",
    "result = meta_bandit(\n",
    "    env_name=env_name,\n",
    "    num_episodes=10000, \n",
    "    lr=best_params[\"lr\"], \n",
    "    tie_threshold=best_params[\"tie_threshold\"],\n",
    "    seed_value=19,\n",
    "    save=\"exp39_best_model.pkl\"\n",
    ")"
   ]
  },
  {
   "cell_type": "code",
   "execution_count": null,
   "metadata": {},
   "outputs": [],
   "source": [
    "# Plot run\n",
    "episodes = result[\"episodes\"]\n",
    "actions =result[\"actions\"]\n",
    "scores_R = result[\"scores_R\"]\n",
    "values_R = result[\"values_R\"]\n",
    "scores_E = result[\"scores_E\"]\n",
    "values_E = result[\"values_E\"]\n",
    "\n",
    "# Get some data from the gym...\n",
    "env = gym.make(env_name)\n",
    "best = env.env.best\n",
    "print(f\"Best arm: {best}, last arm: {actions[-1]}\")\n",
    "\n",
    "# Init plot\n",
    "fig = plt.figure(figsize=(6, 14))\n",
    "grid = plt.GridSpec(5, 1, wspace=0.3, hspace=0.8)\n",
    "\n",
    "# Do plots:\n",
    "# Arm\n",
    "plt.subplot(grid[0, 0])\n",
    "plt.scatter(episodes, actions, color=\"black\", alpha=.5, s=2, label=\"Bandit\")\n",
    "plt.plot(episodes, np.repeat(best, np.max(episodes)+1), \n",
    "         color=\"red\", alpha=0.8, ls='--', linewidth=2)\n",
    "plt.ylim(-.1, np.max(actions)+1.1)\n",
    "plt.ylabel(\"Arm choice\")\n",
    "plt.xlabel(\"Episode\")\n",
    "\n",
    "# score\n",
    "plt.subplot(grid[1, 0])\n",
    "plt.scatter(episodes, scores_R, color=\"grey\", alpha=0.4, s=2, label=\"R\")\n",
    "plt.scatter(episodes, scores_E, color=\"purple\", alpha=0.9, s=2, label=\"E\")\n",
    "plt.ylabel(\"log score\")\n",
    "plt.xlabel(\"Episode\")\n",
    "plt.semilogy()\n",
    "plt.legend(loc='center left', bbox_to_anchor=(1, 0.5))\n",
    "_ = sns.despine()\n",
    "\n",
    "# Q\n",
    "plt.subplot(grid[2, 0])\n",
    "plt.scatter(episodes, values_R, color=\"grey\", alpha=0.4, s=2, label=\"R\")\n",
    "plt.scatter(episodes, values_E, color=\"purple\", alpha=0.4, s=2, label=\"E\")\n",
    "plt.ylabel(\"log Q(s,a)\")\n",
    "plt.xlabel(\"Episode\")\n",
    "plt.semilogy()\n",
    "plt.legend(loc='center left', bbox_to_anchor=(1, 0.5))\n",
    "_ = sns.despine()\n",
    "\n",
    "# -\n",
    "plt.savefig(\"figures/epsilon_bandit.pdf\",  bbox_inches='tight')\n",
    "plt.savefig(\"figures/epsilon_bandit.eps\",  bbox_inches='tight')"
   ]
  },
  {
   "cell_type": "markdown",
   "metadata": {},
   "source": [
    "# Sensitivity\n",
    "\n",
    "to parameter choices"
   ]
  },
  {
   "cell_type": "code",
   "execution_count": null,
   "metadata": {},
   "outputs": [],
   "source": [
    "total_Rs = [] \n",
    "ties = []\n",
    "lrs = []\n",
    "trials = list(sorted_params.keys())\n",
    "for t in trials:\n",
    "    total_Rs.append(sorted_params[t]['total_R'])\n",
    "    ties.append(sorted_params[t]['tie_threshold'])\n",
    "    lrs.append(sorted_params[t]['lr'])\n",
    "    \n",
    "# Init plot\n",
    "fig = plt.figure(figsize=(10, 18))\n",
    "grid = plt.GridSpec(4, 1, wspace=0.3, hspace=0.8)\n",
    "\n",
    "# Do plots:\n",
    "# Arm\n",
    "plt.subplot(grid[0, 0])\n",
    "plt.scatter(trials, total_Rs, color=\"black\", alpha=.5, s=6, label=\"total R\")\n",
    "plt.xlabel(\"Sorted params\")\n",
    "plt.ylabel(\"total R\")\n",
    "_ = sns.despine()\n",
    "\n",
    "plt.subplot(grid[1, 0])\n",
    "plt.scatter(trials, ties, color=\"black\", alpha=.3, s=6, label=\"total R\")\n",
    "plt.xlabel(\"Sorted params\")\n",
    "plt.ylabel(\"Tie threshold\")\n",
    "_ = sns.despine()\n",
    "\n",
    "plt.subplot(grid[2, 0])\n",
    "plt.scatter(trials, lrs, color=\"black\", alpha=.5, s=6, label=\"total R\")\n",
    "plt.xlabel(\"Sorted params\")\n",
    "plt.ylabel(\"lr\")\n",
    "_ = sns.despine()"
   ]
  },
  {
   "cell_type": "markdown",
   "metadata": {},
   "source": [
    "# Distributions\n",
    "\n",
    "of parameters"
   ]
  },
  {
   "cell_type": "code",
   "execution_count": null,
   "metadata": {},
   "outputs": [],
   "source": [
    "# Init plot\n",
    "fig = plt.figure(figsize=(5, 6))\n",
    "grid = plt.GridSpec(2, 1, wspace=0.3, hspace=0.8)\n",
    "\n",
    "plt.subplot(grid[0, 0])\n",
    "plt.hist(ties, color=\"black\")\n",
    "plt.xlabel(\"tie threshold\")\n",
    "plt.ylabel(\"Count\")\n",
    "_ = sns.despine()\n",
    "\n",
    "plt.subplot(grid[1, 0])\n",
    "plt.hist(lrs, color=\"black\")\n",
    "plt.xlabel(\"lr\")\n",
    "plt.ylabel(\"Count\")\n",
    "_ = sns.despine()"
   ]
  },
  {
   "cell_type": "markdown",
   "metadata": {},
   "source": [
    "of total reward"
   ]
  },
  {
   "cell_type": "code",
   "execution_count": null,
   "metadata": {},
   "outputs": [],
   "source": [
    "# Init plot\n",
    "fig = plt.figure(figsize=(5, 2))\n",
    "grid = plt.GridSpec(1, 1, wspace=0.3, hspace=0.8)\n",
    "\n",
    "plt.subplot(grid[0, 0])\n",
    "plt.hist(total_Rs, color=\"black\", bins=50)\n",
    "plt.xlabel(\"Total reward\")\n",
    "plt.ylabel(\"Count\")\n",
    "plt.xlim(0, 10)\n",
    "_ = sns.despine()"
   ]
  },
  {
   "cell_type": "code",
   "execution_count": null,
   "metadata": {},
   "outputs": [],
   "source": []
  },
  {
   "cell_type": "code",
   "execution_count": null,
   "metadata": {},
   "outputs": [],
   "source": []
  }
 ],
 "metadata": {
  "kernelspec": {
   "display_name": "Python 3",
   "language": "python",
   "name": "python3"
  },
  "language_info": {
   "codemirror_mode": {
    "name": "ipython",
    "version": 3
   },
   "file_extension": ".py",
   "mimetype": "text/x-python",
   "name": "python",
   "nbconvert_exporter": "python",
   "pygments_lexer": "ipython3",
   "version": "3.6.7"
  }
 },
 "nbformat": 4,
 "nbformat_minor": 2
}
