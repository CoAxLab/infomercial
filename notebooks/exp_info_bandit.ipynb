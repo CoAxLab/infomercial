{
 "cells": [
  {
   "cell_type": "code",
   "execution_count": 1,
   "metadata": {},
   "outputs": [],
   "source": [
    "import numpy as np\n",
    "\n",
    "from IPython.display import Image\n",
    "import matplotlib\n",
    "import matplotlib.pyplot as plt\n",
    "\n",
    "%matplotlib inline\n",
    "%config InlineBackend.figure_format = 'retina'\n",
    "\n",
    "import seaborn as sns\n",
    "sns.set_style('ticks')\n",
    "\n",
    "matplotlib.rcParams.update({'font.size': 16})\n",
    "matplotlib.rc('axes', titlesize=16)\n",
    "\n",
    "from infomercial.exp import info_bandit\n",
    "from infomercial.local_gym import bandit\n",
    "import gym"
   ]
  },
  {
   "cell_type": "code",
   "execution_count": 2,
   "metadata": {},
   "outputs": [
    {
     "data": {
      "text/plain": [
       "<module 'infomercial.local_gym.bandit' from '/Users/qualia/Code/infomercial/infomercial/local_gym/bandit.py'>"
      ]
     },
     "execution_count": 2,
     "metadata": {},
     "output_type": "execute_result"
    }
   ],
   "source": [
    "bandit"
   ]
  },
  {
   "cell_type": "code",
   "execution_count": 3,
   "metadata": {},
   "outputs": [],
   "source": [
    "# environments = [\n",
    "#     ['BanditOneHot2', 'v0', 1],\n",
    "#     ['BanditOneHot10', 'v0', 1],\n",
    "#     ['BanditOneHot121', 'v0', 1],\n",
    "#     ['BanditOneHot1000', 'v0', 1],\n",
    "#     ['BanditEvenOdds2', 'v0', 1],\n",
    "#     ['BanditOneHigh2', 'v0', 1],\n",
    "#     ['BanditOneHigh10', 'v0', 1],\n",
    "#     ['BanditOneHigh121', 'v0', 1],\n",
    "#     ['BanditOneHigh1000', 'v0', 1],\n",
    "#     ['BanditHardAndSparse2', 'v0', 1],\n",
    "#     ['BanditHardAndSparse10', 'v0', 1],\n",
    "#     ['BanditHardAndSparse121', 'v0', 1],\n",
    "#     ['BanditHardAndSparse1000', 'v0', 1],\n",
    "#     ['BanditGaussian10', 'v0', 1],\n",
    "# ]"
   ]
  },
  {
   "cell_type": "code",
   "execution_count": null,
   "metadata": {
    "scrolled": false
   },
   "outputs": [],
   "source": [
    "env_name = 'BanditOneHot1000-v0'\n",
    "tie_break = 'next' # round robin tie break strategy\n",
    "tie_threshold = 1e-6  # epsilon in the paper\n",
    "\n",
    "# Run bandit exps\n",
    "episodes, actions, scores_E, scores_R, values_E, values_R, ties, policies = info_bandit(\n",
    "    env_name=env_name,\n",
    "    num_episodes=5000, lr=.2, \n",
    "    tie_threshold=tie_threshold, tie_break=tie_break,\n",
    "    seed_value=53\n",
    ")\n",
    "\n",
    "# -\n",
    "env = gym.make(env_name)\n",
    "best = env.env.best\n",
    "print(f\"Best arm: {best}, last arm: {actions[-1]}\")\n",
    "\n",
    "# Plotz\n",
    "fig = plt.figure(figsize=(6, 14))\n",
    "grid = plt.GridSpec(5, 1, wspace=0.3, hspace=0.8)\n",
    "\n",
    "# Arm\n",
    "plt.subplot(grid[0, 0])\n",
    "plt.scatter(episodes, actions, color=\"black\", alpha=.5, s=2, label=\"Bandit\")\n",
    "plt.ylim(-.1, np.max(actions)+1.1)\n",
    "plt.ylabel(\"Arm choice\")\n",
    "plt.xlabel(\"Episode\")\n",
    "\n",
    "# score\n",
    "plt.subplot(grid[1, 0])\n",
    "plt.scatter(episodes, scores_E, color=\"purple\", alpha=0.4, s=2, label=\"E\")\n",
    "plt.scatter(episodes, scores_R, color=\"grey\", alpha=0.4, s=2, label=\"R\")\n",
    "plt.plot(episodes, np.repeat(tie_threshold, np.max(episodes)+1), \n",
    "         color=\"violet\", alpha=0.8, ls='--', linewidth=2)\n",
    "plt.ylabel(\"log score\")\n",
    "plt.xlabel(\"Episode\")\n",
    "plt.semilogy()\n",
    "plt.legend(loc='center left', bbox_to_anchor=(1, 0.5))\n",
    "_ = sns.despine()\n",
    "\n",
    "# Q\n",
    "plt.subplot(grid[2, 0])\n",
    "plt.scatter(episodes, values_E, color=\"purple\", alpha=0.4, s=2, label=\"E\")\n",
    "plt.scatter(episodes, values_R, color=\"grey\", alpha=0.4, s=2, label=\"R\")\n",
    "plt.plot(episodes, np.repeat(tie_threshold, np.max(episodes)+1), \n",
    "         color=\"violet\", alpha=0.8, ls='--', linewidth=2)\n",
    "plt.ylabel(\"log Q(s,a)\")\n",
    "plt.xlabel(\"Episode\")\n",
    "plt.semilogy()\n",
    "plt.legend(loc='center left', bbox_to_anchor=(1, 0.5))\n",
    "_ = sns.despine()\n",
    "\n",
    "# Ties\n",
    "plt.subplot(grid[3, 0])\n",
    "plt.scatter(episodes, ties, color=\"black\", alpha=.5, s=2, label=\"Bandit\")\n",
    "plt.ylim(-.1, 1+.1)\n",
    "plt.ylabel(\"Ties index\")\n",
    "plt.xlabel(\"Episode\")\n",
    "\n",
    "# Policy\n",
    "policies = np.asarray(policies)\n",
    "episodes = np.asarray(episodes)\n",
    "plt.subplot(grid[4, 0])\n",
    "m = policies == 0\n",
    "plt.scatter(episodes[m], policies[m], alpha=.4, s=2, label=\"E\", color=\"purple\")\n",
    "m = policies == 1\n",
    "plt.scatter(episodes[m], policies[m], alpha=.4, s=2, label=\"R\", color=\"grey\")\n",
    "plt.ylim(-.1, 1+.1)\n",
    "plt.ylabel(\"Controlling\\npolicy\")\n",
    "plt.xlabel(\"Episode\")\n",
    "plt.legend(loc='center left', bbox_to_anchor=(1, 0.5))\n",
    "_ = sns.despine()\n",
    "\n",
    "# -\n",
    "plt.savefig(\"figures/info_bandit.pdf\",  bbox_inches='tight')\n",
    "plt.savefig(\"figures/info_bandit.eps\",  bbox_inches='tight')"
   ]
  },
  {
   "cell_type": "code",
   "execution_count": 5,
   "metadata": {},
   "outputs": [
    {
     "data": {
      "text/plain": [
       "0"
      ]
     },
     "execution_count": 5,
     "metadata": {},
     "output_type": "execute_result"
    }
   ],
   "source": []
  },
  {
   "cell_type": "code",
   "execution_count": null,
   "metadata": {},
   "outputs": [],
   "source": []
  }
 ],
 "metadata": {
  "kernelspec": {
   "display_name": "Python 3",
   "language": "python",
   "name": "python3"
  },
  "language_info": {
   "codemirror_mode": {
    "name": "ipython",
    "version": 3
   },
   "file_extension": ".py",
   "mimetype": "text/x-python",
   "name": "python",
   "nbconvert_exporter": "python",
   "pygments_lexer": "ipython3",
   "version": "3.6.7"
  }
 },
 "nbformat": 4,
 "nbformat_minor": 2
}
